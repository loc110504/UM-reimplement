{
 "cells": [
  {
   "cell_type": "markdown",
   "metadata": {},
   "source": [
    "# Thực hiện visualize dataset để chia các configs cho semi-supervised hợp lí"
   ]
  },
  {
   "cell_type": "markdown",
   "metadata": {},
   "source": [
    "Import thư viện"
   ]
  },
  {
   "cell_type": "code",
   "execution_count": 7,
   "metadata": {},
   "outputs": [],
   "source": [
    "import os\n",
    "import numpy as np\n",
    "from PIL import Image\n",
    "import matplotlib.pyplot as plt"
   ]
  },
  {
   "cell_type": "markdown",
   "metadata": {},
   "source": [
    "Tổng số lượng ảnh"
   ]
  },
  {
   "cell_type": "code",
   "execution_count": null,
   "metadata": {},
   "outputs": [
    {
     "name": "stdout",
     "output_type": "stream",
     "text": [
      "Tổng số ảnh của bộ PascalVOC: 17125\n"
     ]
    }
   ],
   "source": [
    "def count_images_in_folder(folder):\n",
    "    # Định nghĩa các phần mở rộng của ảnh (chuyển về chữ thường để so sánh)\n",
    "    image_extensions = {'.jpg', '.jpeg', '.png', '.bmp', '.tiff'}\n",
    "    count = 0\n",
    "    for file in os.listdir(folder):\n",
    "        ext = os.path.splitext(file)[1].lower()\n",
    "        if ext in image_extensions:\n",
    "            count += 1\n",
    "    return count\n",
    "\n",
    "# Giả sử folder gốc là thư mục hiện tại (\".\")\n",
    "root_folder = \"pascal_data/JPEGImages\"\n",
    "total_images = count_images_in_folder(root_folder)\n",
    "print(\"Tổng số ảnh của bộ PascalVOC:\", total_images)"
   ]
  },
  {
   "cell_type": "markdown",
   "metadata": {},
   "source": [
    "Tổng số lượng ảnh có nhãn segmentation"
   ]
  },
  {
   "cell_type": "code",
   "execution_count": null,
   "metadata": {},
   "outputs": [
    {
     "name": "stdout",
     "output_type": "stream",
     "text": [
      "Tổng số ảnh có nhãn: 2913\n"
     ]
    }
   ],
   "source": [
    "def count_images_in_folder(folder):\n",
    "    # Định nghĩa các phần mở rộng của ảnh (chuyển về chữ thường để so sánh)\n",
    "    image_extensions = {'.jpg', '.jpeg', '.png', '.bmp', '.tiff'}\n",
    "    count = 0\n",
    "    for file in os.listdir(folder):\n",
    "        ext = os.path.splitext(file)[1].lower()\n",
    "        if ext in image_extensions:\n",
    "            count += 1\n",
    "    return count\n",
    "\n",
    "# Giả sử folder gốc là thư mục hiện tại (\".\")\n",
    "root_folder = \"pascal_data/SegmentationClass\"\n",
    "total_images = count_images_in_folder(root_folder)\n",
    "print(\"Tổng số ảnh có nhãn:\", total_images)"
   ]
  },
  {
   "cell_type": "markdown",
   "metadata": {},
   "source": [
    "Xem phân phối số lượng segment của mỗi classes"
   ]
  },
  {
   "cell_type": "code",
   "execution_count": null,
   "metadata": {},
   "outputs": [
    {
     "name": "stdout",
     "output_type": "stream",
     "text": [
      "Lớp 0: 2903 ảnh\n",
      "Lớp 1: 178 ảnh\n",
      "Lớp 15: 888 ảnh\n",
      "Lớp 20: 157 ảnh\n",
      "Lớp 19: 167 ảnh\n",
      "Lớp 4: 150 ảnh\n",
      "Lớp 9: 271 ảnh\n",
      "Lớp 12: 249 ảnh\n",
      "Lớp 3: 208 ảnh\n",
      "Lớp 2: 144 ảnh\n",
      "Lớp 5: 183 ảnh\n",
      "Lớp 17: 120 ảnh\n",
      "Lớp 11: 157 ảnh\n",
      "Lớp 13: 147 ảnh\n",
      "Lớp 14: 157 ảnh\n",
      "Lớp 18: 183 ảnh\n",
      "Lớp 10: 135 ảnh\n",
      "Lớp 7: 255 ảnh\n",
      "Lớp 8: 250 ảnh\n",
      "Lớp 6: 152 ảnh\n",
      "Lớp 16: 167 ảnh\n"
     ]
    }
   ],
   "source": [
    "import os\n",
    "import numpy as np\n",
    "from PIL import Image\n",
    "\n",
    "# Đường dẫn tới folder chứa ảnh segmentation (annotation)\n",
    "segmentation_folder = 'pascal_data/SegmentationClass'\n",
    "\n",
    "# Lấy danh sách file ảnh segmentation\n",
    "segmentation_files = os.listdir(segmentation_folder)\n",
    "\n",
    "# Dictionary để lưu các ảnh cho từng lớp\n",
    "class_to_images = {}\n",
    "\n",
    "# Duyệt qua từng ảnh segmentation\n",
    "for seg_file in segmentation_files:\n",
    "    seg_path = os.path.join(segmentation_folder, seg_file)\n",
    "    mask = np.array(Image.open(seg_path))\n",
    "    \n",
    "    # Lấy các nhãn duy nhất có trong ảnh\n",
    "    classes = np.unique(mask)\n",
    "    \n",
    "    # Cập nhật dictionary: loại bỏ nhãn void (thường là 255)\n",
    "    for c in classes:\n",
    "        if c == 255:  # Nếu giá trị 255 đại diện cho void, bạn có thể bỏ qua\n",
    "            continue\n",
    "        if c not in class_to_images:\n",
    "            class_to_images[c] = []\n",
    "        class_to_images[c].append(seg_file)\n",
    "\n",
    "# Hiển thị số lượng ảnh chứa mỗi lớp\n",
    "for cls, img_list in class_to_images.items():\n",
    "    print(f\"Lớp {cls}: {len(img_list)} ảnh\")\n"
   ]
  },
  {
   "cell_type": "code",
   "execution_count": 5,
   "metadata": {},
   "outputs": [
    {
     "data": {
      "image/png": "[encoded data removed]",
      "text/plain": [
       "<Figure size 800x600 with 1 Axes>"
      ]
     },
     "metadata": {},
     "output_type": "display_data"
    },
    {
     "name": "stdout",
     "output_type": "stream",
     "text": [
      "Phân phối class (ảnh-level): {np.uint8(1): 178, np.uint8(15): 888, np.uint8(20): 157, np.uint8(19): 167, np.uint8(4): 150, np.uint8(9): 271, np.uint8(12): 249, np.uint8(3): 208, np.uint8(2): 144, np.uint8(5): 183, np.uint8(17): 120, np.uint8(11): 157, np.uint8(13): 147, np.uint8(14): 157, np.uint8(18): 183, np.uint8(10): 135, np.uint8(7): 255, np.uint8(8): 250, np.uint8(6): 152, np.uint8(16): 167}\n"
     ]
    }
   ],
   "source": [
    "import os\n",
    "import numpy as np\n",
    "from PIL import Image\n",
    "import matplotlib.pyplot as plt\n",
    "\n",
    "def plot_class_distribution_image_level(segmentation_folder, ignore_classes=[0, 255]):\n",
    "    \"\"\"\n",
    "    Hàm này duyệt qua các file segmentation trong folder,\n",
    "    nếu trong ảnh có xuất hiện một class nào đó (ngoại trừ các class trong ignore_classes),\n",
    "    thì cộng 1 cho class đó (tính theo số lượng ảnh có chứa class đó).\n",
    "\n",
    "    Parameters:\n",
    "        segmentation_folder (str): Đường dẫn tới folder chứa segmentation masks.\n",
    "        ignore_classes (list): Danh sách các nhãn cần loại bỏ (mặc định: [0, 255]).\n",
    "    \n",
    "    Returns:\n",
    "        class_counts (dict): Dictionary chứa số lần xuất hiện của mỗi class\n",
    "                             (key: label, value: số ảnh có chứa label đó).\n",
    "    \"\"\"\n",
    "    class_counts = {}\n",
    "\n",
    "    # Duyệt qua tất cả file trong folder\n",
    "    for filename in os.listdir(segmentation_folder):\n",
    "        if not filename.endswith('.png'):\n",
    "            continue\n",
    "        mask_path = os.path.join(segmentation_folder, filename)\n",
    "        mask = np.array(Image.open(mask_path))\n",
    "        \n",
    "        # Lấy danh sách các nhãn duy nhất xuất hiện trong ảnh\n",
    "        unique_labels = np.unique(mask)\n",
    "        # Với mỗi nhãn, nếu nó không thuộc ignore, cộng 1 cho class_counts\n",
    "        for label in unique_labels:\n",
    "            if label in ignore_classes:\n",
    "                continue\n",
    "            class_counts[label] = class_counts.get(label, 0) + 1\n",
    "\n",
    "    # Sắp xếp các nhãn theo thứ tự tăng dần\n",
    "    sorted_labels = sorted(class_counts.keys())\n",
    "    sorted_counts = [class_counts[label] for label in sorted_labels]\n",
    "\n",
    "    # Vẽ biểu đồ phân phối\n",
    "    plt.figure(figsize=(8, 6))\n",
    "    plt.bar(sorted_labels, sorted_counts, color='skyblue')\n",
    "    plt.xlabel(\"Class Label\")\n",
    "    plt.ylabel(\"Số lượng ảnh có class\")\n",
    "    plt.title(\"Phân phối class (ảnh-level) trong folder SegmentationClass\")\n",
    "    plt.xticks(sorted_labels)\n",
    "    plt.show()\n",
    "\n",
    "    return class_counts\n",
    "\n",
    "# Ví dụ sử dụng:\n",
    "segmentation_folder = \"pascal_data/SegmentationClass\"\n",
    "distribution = plot_class_distribution_image_level(segmentation_folder)\n",
    "print(\"Phân phối class (ảnh-level):\", distribution)\n"
   ]
  },
  {
   "cell_type": "code",
   "execution_count": 6,
   "metadata": {},
   "outputs": [
    {
     "name": "stdout",
     "output_type": "stream",
     "text": [
      "Phân phối class (ảnh-level): {np.uint8(1): 178, np.uint8(15): 888, np.uint8(20): 157, np.uint8(19): 167, np.uint8(4): 150, np.uint8(9): 271, np.uint8(12): 249, np.uint8(3): 208, np.uint8(2): 144, np.uint8(5): 183, np.uint8(17): 120, np.uint8(11): 157, np.uint8(13): 147, np.uint8(14): 157, np.uint8(18): 183, np.uint8(10): 135, np.uint8(7): 255, np.uint8(8): 250, np.uint8(6): 152, np.uint8(16): 167}\n"
     ]
    },
    {
     "data": {
      "image/png": "[encoded data removed]",
      "text/plain": [
       "<Figure size 1000x600 with 1 Axes>"
      ]
     },
     "metadata": {},
     "output_type": "display_data"
    }
   ],
   "source": [
    "# Mapping từ label sang tên class của Pascal VOC 2012 (lớp 0 là background)\n",
    "VOC_CLASSES = {\n",
    "    0: 'background',\n",
    "    1: 'aeroplane',\n",
    "    2: 'bicycle',\n",
    "    3: 'bird',\n",
    "    4: 'boat',\n",
    "    5: 'bottle',\n",
    "    6: 'bus',\n",
    "    7: 'car',\n",
    "    8: 'cat',\n",
    "    9: 'chair',\n",
    "    10: 'cow',\n",
    "    11: 'diningtable',\n",
    "    12: 'dog',\n",
    "    13: 'horse',\n",
    "    14: 'motorbike',\n",
    "    15: 'person',\n",
    "    16: 'pottedplant',\n",
    "    17: 'sheep',\n",
    "    18: 'sofa',\n",
    "    19: 'train',\n",
    "    20: 'tvmonitor'\n",
    "}\n",
    "\n",
    "def plot_class_distribution_image_level(segmentation_folder, ignore_classes=[0, 255]):\n",
    "    \"\"\"\n",
    "    Duyệt qua các file segmentation trong folder,\n",
    "    nếu trong ảnh có xuất hiện một class nào đó (ngoại trừ các class trong ignore_classes),\n",
    "    thì cộng 1 cho class đó (tính theo số lượng ảnh có chứa class đó).\n",
    "\n",
    "    Parameters:\n",
    "        segmentation_folder (str): Đường dẫn tới folder chứa segmentation masks.\n",
    "        ignore_classes (list): Danh sách các nhãn cần loại trừ (mặc định: [0, 255]).\n",
    "    \n",
    "    Returns:\n",
    "        class_counts (dict): Dictionary chứa số ảnh có chứa mỗi class \n",
    "                             (key: label, value: count).\n",
    "    \"\"\"\n",
    "    class_counts = {}\n",
    "    for filename in os.listdir(segmentation_folder):\n",
    "        if not filename.endswith('.png'):\n",
    "            continue\n",
    "        mask_path = os.path.join(segmentation_folder, filename)\n",
    "        mask = np.array(Image.open(mask_path))\n",
    "        unique_labels = np.unique(mask)\n",
    "        for label in unique_labels:\n",
    "            if label in ignore_classes:\n",
    "                continue\n",
    "            # Nếu một ảnh có xuất hiện label này, cộng 1\n",
    "            class_counts[label] = class_counts.get(label, 0) + 1\n",
    "    return class_counts\n",
    "\n",
    "# Đường dẫn tới folder chứa segmentation masks (ví dụ: \"pascal_data/SegmentationClass\")\n",
    "segmentation_folder = \"pascal_data/SegmentationClass\"\n",
    "\n",
    "# Tính phân phối theo ảnh-level\n",
    "distribution = plot_class_distribution_image_level(segmentation_folder)\n",
    "print(\"Phân phối class (ảnh-level):\", distribution)\n",
    "\n",
    "# Sắp xếp theo thứ tự label tăng dần\n",
    "sorted_labels = sorted(distribution.keys())\n",
    "sorted_counts = [distribution[label] for label in sorted_labels]\n",
    "# Chuyển label thành tên class theo VOC_CLASSES\n",
    "sorted_class_names = [VOC_CLASSES.get(label, str(label)) for label in sorted_labels]\n",
    "\n",
    "# Vẽ biểu đồ\n",
    "plt.figure(figsize=(10, 6))\n",
    "plt.bar(sorted_class_names, sorted_counts, color='skyblue')\n",
    "plt.xlabel(\"Tên Class\")\n",
    "plt.ylabel(\"Số lượng ảnh có chứa class\")\n",
    "plt.title(\"Phân phối class (ảnh-level) trong folder SegmentationClass\")\n",
    "plt.xticks(rotation=45)\n",
    "plt.tight_layout()\n",
    "plt.show()"
   ]
  },
  {
   "cell_type": "code",
   "execution_count": 10,
   "metadata": {},
   "outputs": [],
   "source": [
    "import os\n",
    "import numpy as np\n",
    "from PIL import Image\n",
    "import random\n",
    "import matplotlib.pyplot as plt\n",
    "\n",
    "########################################\n",
    "# 1. XÂY DỰNG HÀM VÀ CẤU TRÚC DỮ LIỆU\n",
    "########################################\n",
    "\n",
    "def get_labels_from_mask(mask_path, ignore_classes=[0, 255]):\n",
    "    \"\"\"\n",
    "    Đọc mask từ file và trả về tập các nhãn có trong ảnh, loại trừ ignore_classes (0, 255).\n",
    "    \"\"\"\n",
    "    mask = np.array(Image.open(mask_path))\n",
    "    labels = set(np.unique(mask))\n",
    "    return labels - set(ignore_classes)\n",
    "\n",
    "def build_image_class_map(segmentation_folder, ignore_classes=[0, 255]):\n",
    "    \"\"\"\n",
    "    Duyệt qua folder segmentation, trả về:\n",
    "      image_class_map: dict {file_id: set(classes)}\n",
    "        - file_id: \"2007_000032\" (không kèm đuôi .png)\n",
    "        - set(classes): tập các nhãn (int) có trong ảnh\n",
    "    \"\"\"\n",
    "    image_class_map = {}\n",
    "    for filename in os.listdir(segmentation_folder):\n",
    "        if not filename.endswith('.png'):\n",
    "            continue\n",
    "        file_id, _ = os.path.splitext(filename)\n",
    "        mask_path = os.path.join(segmentation_folder, filename)\n",
    "        labels = get_labels_from_mask(mask_path, ignore_classes)\n",
    "        if labels:\n",
    "            image_class_map[file_id] = labels\n",
    "    return image_class_map\n",
    "\n",
    "def build_class_to_images(image_class_map):\n",
    "    \"\"\"\n",
    "    Tạo dict {class_label: list file_id} từ image_class_map.\n",
    "    \"\"\"\n",
    "    class_to_images = {}\n",
    "    for file_id, classes in image_class_map.items():\n",
    "        for c in classes:\n",
    "            class_to_images.setdefault(c, []).append(file_id)\n",
    "    return class_to_images\n",
    "\n",
    "def save_list_file(pairs, file_path):\n",
    "    \"\"\"\n",
    "    Ghi danh sách (img_path, seg_path) hoặc (img_path) vào file.\n",
    "    pairs: list các tuple/string\n",
    "    Nếu tuple: (JPEG_path, SEG_path)\n",
    "    Nếu string: chỉ 1 đường dẫn (dành cho unlabeled).\n",
    "    \"\"\"\n",
    "    with open(file_path, \"w\") as f:\n",
    "        for item in pairs:\n",
    "            if isinstance(item, tuple):\n",
    "                # Ghi theo format: \"JPEGImages/xxx.jpg SegmentationClass/xxx.png\"\n",
    "                f.write(f\"{item[0]} {item[1]}\\n\")\n",
    "            else:\n",
    "                # Ghi 1 đường dẫn\n",
    "                f.write(f\"{item}\\n\")"
   ]
  },
  {
   "cell_type": "code",
   "execution_count": 11,
   "metadata": {},
   "outputs": [
    {
     "name": "stdout",
     "output_type": "stream",
     "text": [
      "Tổng số ảnh trong JPEGImages: 17125\n",
      "Tổng số ảnh trong SegmentationClass: 2913\n"
     ]
    }
   ],
   "source": [
    "########################################\n",
    "# 2. CÁC THÔNG TIN VỀ FOLDER VÀ HÀM TIỆN ÍCH\n",
    "########################################\n",
    "\n",
    "# Đường dẫn folder\n",
    "jpeg_folder = \"pascal_data/JPEGImages\"\n",
    "seg_folder = \"pascal_data/SegmentationClass\"\n",
    "\n",
    "# Số ảnh labeled cần\n",
    "NUM_LABELED = 1464\n",
    "\n",
    "# Hàm lấy danh sách file id\n",
    "def get_file_ids(folder, extension):\n",
    "    ids = set()\n",
    "    for fn in os.listdir(folder):\n",
    "        if fn.endswith(extension):\n",
    "            base, _ = os.path.splitext(fn)\n",
    "            ids.add(base)\n",
    "    return ids\n",
    "\n",
    "jpeg_ids = get_file_ids(jpeg_folder, \".jpg\")   # Ảnh gốc\n",
    "seg_ids = get_file_ids(seg_folder, \".png\")     # Ảnh có segmentation\n",
    "print(f\"Tổng số ảnh trong JPEGImages: {len(jpeg_ids)}\")\n",
    "print(f\"Tổng số ảnh trong SegmentationClass: {len(seg_ids)}\")"
   ]
  },
  {
   "cell_type": "code",
   "execution_count": 12,
   "metadata": {},
   "outputs": [
    {
     "name": "stdout",
     "output_type": "stream",
     "text": [
      "Số ảnh tối thiểu xuất hiện của 1 lớp: 120\n",
      "Số ảnh sau khi union: 2058\n",
      "Số ảnh sau cân bằng: 1464\n"
     ]
    }
   ],
   "source": [
    "########################################\n",
    "# 3. TẠO TẬP CON 1464 ẢNH CÂN BẰNG\n",
    "########################################\n",
    "\n",
    "def select_balanced_subset(segmentation_folder, target_num=1464):\n",
    "    \"\"\"\n",
    "    Chọn tập con 'balanced' (theo union) gồm target_num ảnh từ folder segmentation.\n",
    "    Cách làm:\n",
    "      - Duyệt tất cả ảnh -> image_class_map\n",
    "      - class_to_images: mapping class -> list ảnh\n",
    "      - Lấy số ảnh tối thiểu min_count = min(len(imgs) for imgs in class_to_images.values())\n",
    "      - Với mỗi lớp, lấy ngẫu nhiên min_count ảnh\n",
    "      - Union tất cả -> balanced_set\n",
    "      - Nếu balanced_set > target_num: rút gọn random\n",
    "      - Nếu balanced_set < target_num: bổ sung random từ pool\n",
    "    Trả về list file_id (không kèm .png).\n",
    "    \"\"\"\n",
    "    image_class_map = build_image_class_map(segmentation_folder)\n",
    "    if not image_class_map:\n",
    "        return []\n",
    "    \n",
    "    class_to_imgs = build_class_to_images(image_class_map)\n",
    "    # Tính số ảnh tối thiểu\n",
    "    min_count = min(len(imgs) for imgs in class_to_imgs.values())\n",
    "    print(\"Số ảnh tối thiểu xuất hiện của 1 lớp:\", min_count)\n",
    "    \n",
    "    sampled_sets = []\n",
    "    for c, img_list in class_to_imgs.items():\n",
    "        if len(img_list) > min_count:\n",
    "            subset = set(random.sample(img_list, min_count))\n",
    "        else:\n",
    "            subset = set(img_list)\n",
    "        sampled_sets.append(subset)\n",
    "    balanced_set = set.union(*sampled_sets)\n",
    "    print(\"Số ảnh sau khi union:\", len(balanced_set))\n",
    "\n",
    "    # Tất cả ảnh có segmentation (chỉ tính ảnh nào có class_map)\n",
    "    all_seg_images = set(image_class_map.keys())\n",
    "    \n",
    "    # Điều chỉnh cho đủ target_num\n",
    "    if len(balanced_set) > target_num:\n",
    "        balanced_set = set(random.sample(list(balanced_set), target_num))\n",
    "    elif len(balanced_set) < target_num:\n",
    "        needed = target_num - len(balanced_set)\n",
    "        remaining = list(all_seg_images - balanced_set)\n",
    "        if len(remaining) < needed:\n",
    "            raise ValueError(\"Không đủ ảnh để bổ sung cho đủ 1464.\")\n",
    "        balanced_set.update(random.sample(remaining, needed))\n",
    "    \n",
    "    return sorted(balanced_set)\n",
    "\n",
    "balanced_ids = select_balanced_subset(seg_folder, NUM_LABELED)\n",
    "print(f\"Số ảnh sau cân bằng: {len(balanced_ids)}\")"
   ]
  },
  {
   "cell_type": "code",
   "execution_count": 19,
   "metadata": {},
   "outputs": [
    {
     "name": "stdout",
     "output_type": "stream",
     "text": [
      "Đã tạo 3 file:\n",
      "  labeled.txt: 1464 ảnh\n",
      "  val.txt: 1449 ảnh\n",
      "  unlabeled.txt: 14212 ảnh\n"
     ]
    }
   ],
   "source": [
    "########################################\n",
    "# 4. TẠO labeled.txt, val.txt, unlabeled.txt\n",
    "########################################\n",
    "\n",
    "# Tập labeled chính là balanced_ids\n",
    "balanced_set = set(balanced_ids)\n",
    "# Tập val là seg_ids còn lại\n",
    "val_set = sorted(list(seg_ids - balanced_set))\n",
    "\n",
    "# Tập unlabeled là ảnh có trong JPEGImages mà không có segmentation\n",
    "unlabeled_set = sorted(list(jpeg_ids - seg_ids))\n",
    "\n",
    "# Tạo nội dung file:\n",
    "# - labeled.txt: \"JPEGImages/<id>.jpg SegmentationClass/<id>.png\"\n",
    "labeled_pairs = [(f\"JPEGImages/{fid}.jpg\", f\"SegmentationClass/{fid}.png\") for fid in balanced_ids]\n",
    "# - val.txt: \"JPEGImages/<id>.jpg SegmentationClass/<id>.png\"\n",
    "val_pairs = [(f\"JPEGImages/{fid}.jpg\", f\"SegmentationClass/{fid}.png\") for fid in val_set]\n",
    "# - unlabeled.txt: \"JPEGImages/<id>.jpg\"\n",
    "unlabeled_list = [(f\"JPEGImages/{fid}.jpg\", f\"SegmentationClass/{fid}.png\") for fid in unlabeled_set]\n",
    "\n",
    "# Lưu file\n",
    "save_list_file(labeled_pairs, \"labeled.txt\")\n",
    "save_list_file(val_pairs, \"val.txt\")\n",
    "save_list_file(unlabeled_list, \"unlabeled.txt\")\n",
    "\n",
    "print(\"Đã tạo 3 file:\")\n",
    "print(f\"  labeled.txt: {len(labeled_pairs)} ảnh\")\n",
    "print(f\"  val.txt: {len(val_pairs)} ảnh\")\n",
    "print(f\"  unlabeled.txt: {len(unlabeled_list)} ảnh\")"
   ]
  },
  {
   "cell_type": "code",
   "execution_count": 17,
   "metadata": {},
   "outputs": [
    {
     "name": "stdout",
     "output_type": "stream",
     "text": [
      "Số dòng trùng giữa labeled.txt và val.txt: 0\n",
      "Số dòng trùng giữa labeled.txt và unlabeled.txt: 0\n",
      "Số dòng trùng giữa val.txt và unlabeled.txt: 0\n"
     ]
    }
   ],
   "source": [
    "def read_lines(file_path):\n",
    "    \"\"\"\n",
    "    Đọc file và trả về một tập hợp (set) các dòng (đã strip).\n",
    "    \"\"\"\n",
    "    with open(file_path, 'r') as f:\n",
    "        lines = f.readlines()\n",
    "    # Loại bỏ dòng trống và khoảng trắng\n",
    "    lines = [line.strip() for line in lines if line.strip()]\n",
    "    return set(lines)\n",
    "\n",
    "# Đường dẫn tới 3 file\n",
    "file_labeled = \"splits/pascal/1464/labeled.txt\"\n",
    "file_val = \"splits/pascal/val.txt\"\n",
    "file_unlabeled = \"splits/pascal/1464/unlabeled.txt\"\n",
    "\n",
    "# Đọc nội dung file vào các tập hợp\n",
    "labeled_set = read_lines(file_labeled)\n",
    "val_set = read_lines(file_val)\n",
    "unlabeled_set = read_lines(file_unlabeled)\n",
    "\n",
    "# Kiểm tra trùng lặp giữa các cặp\n",
    "intersection_lv = labeled_set.intersection(val_set)\n",
    "intersection_lu = labeled_set.intersection(unlabeled_set)\n",
    "intersection_vu = val_set.intersection(unlabeled_set)\n",
    "\n",
    "# In kết quả\n",
    "print(\"Số dòng trùng giữa labeled.txt và val.txt:\", len(intersection_lv))\n",
    "if intersection_lv:\n",
    "    print(\"Dòng trùng:\", intersection_lv)\n",
    "\n",
    "print(\"Số dòng trùng giữa labeled.txt và unlabeled.txt:\", len(intersection_lu))\n",
    "if intersection_lu:\n",
    "    print(\"Dòng trùng:\", intersection_lu)\n",
    "\n",
    "print(\"Số dòng trùng giữa val.txt và unlabeled.txt:\", len(intersection_vu))\n",
    "if intersection_vu:\n",
    "    print(\"Dòng trùng:\", intersection_vu)\n"
   ]
  },
  {
   "cell_type": "code",
   "execution_count": 2,
   "metadata": {},
   "outputs": [
    {
     "name": "stdout",
     "output_type": "stream",
     "text": [
      "File labeled: Số file không tồn tại = 0\n",
      "File unlabeled: Số file không tồn tại = 9118\n",
      "Tổng số file không tồn tại = 9118\n"
     ]
    }
   ],
   "source": [
    "import os\n",
    "\n",
    "def check_paths_in_txt(root_dir, txt_file):\n",
    "    \"\"\"\n",
    "    Kiểm tra tất cả đường dẫn (image_path, mask_path) trong một file txt\n",
    "    xem chúng có tồn tại trong thư mục gốc (root_dir) hay không.\n",
    "    \n",
    "    Args:\n",
    "        root_dir: Thư mục gốc chứa JPEGImages/, SegmentationClass/, ...\n",
    "        txt_file: Đường dẫn đến file txt có format:\n",
    "                  \"JPEGImages/xxx.jpg SegmentationClass/xxx.png\"\n",
    "    \n",
    "    Returns:\n",
    "        missing_count: số file không tồn tại\n",
    "    \"\"\"\n",
    "    missing_count = 0\n",
    "    with open(txt_file, 'r') as f:\n",
    "        lines = f.read().splitlines()\n",
    "\n",
    "    for line in lines:\n",
    "        # Mỗi dòng: \"JPEGImages/xxx.jpg SegmentationClass/xxx.png\"\n",
    "        img_path, mask_path = line.split()\n",
    "\n",
    "        # Tạo đường dẫn tuyệt đối (hoặc ghép root_dir + path)\n",
    "        abs_img_path = os.path.join(root_dir, img_path)\n",
    "        abs_mask_path = os.path.join(root_dir, mask_path)\n",
    "\n",
    "        # Kiểm tra sự tồn tại\n",
    "        if not os.path.exists(abs_img_path):\n",
    "            missing_count += 1\n",
    "        if not os.path.exists(abs_mask_path):\n",
    "            missing_count += 1\n",
    "\n",
    "    return missing_count\n",
    "\n",
    "if __name__ == \"__main__\":\n",
    "    root_dir = \"pascal_data\"              # Thay đường dẫn thư mục gốc\n",
    "    labeled_txt = \"splits/pascal/183/labeled.txt\"        # File txt đầu tiên\n",
    "    unlabeled_txt = \"splits/pascal/183/unlabeled.txt\"    # File txt thứ hai\n",
    "\n",
    "    # Kiểm tra file labeled\n",
    "    missing_labeled = check_paths_in_txt(root_dir, labeled_txt)\n",
    "    print(f\"File labeled: Số file không tồn tại = {missing_labeled}\")\n",
    "\n",
    "    # Kiểm tra file unlabeled\n",
    "    missing_unlabeled = check_paths_in_txt(root_dir, unlabeled_txt)\n",
    "    print(f\"File unlabeled: Số file không tồn tại = {missing_unlabeled}\")\n",
    "\n",
    "    # Tổng missing\n",
    "    total_missing = missing_labeled + missing_unlabeled\n",
    "    print(f\"Tổng số file không tồn tại = {total_missing}\")\n"
   ]
  },
  {
   "cell_type": "code",
   "execution_count": null,
   "metadata": {},
   "outputs": [],
   "source": []
  }
 ],
 "metadata": {
  "kernelspec": {
   "display_name": "unimatch",
   "language": "python",
   "name": "python3"
  },
  "language_info": {
   "codemirror_mode": {
    "name": "ipython",
    "version": 3
   },
   "file_extension": ".py",
   "mimetype": "text/x-python",
   "name": "python",
   "nbconvert_exporter": "python",
   "pygments_lexer": "ipython3",
   "version": "3.10.4"
  }
 },
 "nbformat": 4,
 "nbformat_minor": 2
}
